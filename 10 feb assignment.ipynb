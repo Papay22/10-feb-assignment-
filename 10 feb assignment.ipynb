{
 "cells": [
  {
   "cell_type": "code",
   "execution_count": null,
   "id": "93bff4eb-fcb6-4f9f-8803-25348fd091c5",
   "metadata": {},
   "outputs": [],
   "source": [
    "'r' - This mode is used to open a file for reading. It is the default mode and is used when no other mode is specified.\n",
    "'w' - This mode is used to open a file for writing. If the file already exists, its contents will be overwritten. If the file does not exist, it will be created.\n",
    "'a' - This mode is used to open a file for appending. If the file already exists, new data will be added to the end of the existing data. If the file does not exist, it will be created.\n",
    "'x' - This mode is used to create a new file for writing. If the file already exists, an error will be raised.\n",
    "'r+' - This mode is used to open a file for both reading and writing. If the file does not exist, an error will be raised."
   ]
  },
  {
   "cell_type": "code",
   "execution_count": null,
   "id": "38bf31b8-dfdd-472a-b077-5a859e2a9e60",
   "metadata": {},
   "outputs": [],
   "source": [
    "The close() function is used to close an open file. It is important to close a file because it releases the resources associated with the file and allows other programs to access it. Additionally, any changes made to the file are saved \n",
    "\n",
    "when it is closed."
   ]
  },
  {
   "cell_type": "code",
   "execution_count": null,
   "id": "b0ba6525-e414-42b3-bcc4-63c1d5caabd0",
   "metadata": {},
   "outputs": [],
   "source": [
    "#Python Program\n",
    "\n",
    "\n",
    "#Opening the file in write mode\n",
    "\n",
    "file = open('sample.txt','w')\n",
    "\n",
    "\n",
    "#Writing the content in the file\n",
    "\n",
    "file.write(\"I want to become a Data Scientist\")\n",
    "\n",
    "\n",
    "#Closing the file\n",
    "\n",
    "file.close()\n",
    "\n",
    "\n",
    "#Opening the file in read mode\n",
    "\n",
    "file = open('sample.txt','r')\n",
    "\n",
    "\n",
    "#Reading the content of the file\n",
    "\n",
    "print(file.read())\n",
    "\n",
    "\n",
    "#Closing the file\n",
    "\n",
    "file.close()"
   ]
  },
  {
   "cell_type": "code",
   "execution_count": null,
   "id": "f369611b-a608-4119-9e88-af19300889ef",
   "metadata": {},
   "outputs": [],
   "source": [
    "#This function reads the entire contents of a file and returns it as a string.\n",
    "\n",
    "\n",
    "with open('example.txt', 'r') as f:\n",
    "\n",
    "content = f.read()\n",
    "\n",
    "print(content)\n",
    "\n",
    "\n",
    "#readline()\n",
    "\n",
    "#This function reads a single line from the file and returns it as a string.\n",
    "\n",
    "\n",
    "with open('example.txt', 'r') as f:\n",
    "\n",
    "line = f.readline()\n",
    "\n",
    "print(line)\n",
    "\n",
    "\n",
    "#readlines()\n",
    "\n",
    "#This function reads all the lines of a file at once and returns them as a list of strings.\n",
    "\n",
    "\n",
    "with open('example.txt', 'r') as f:\n",
    "\n",
    "lines = f.readlines()\n",
    "\n",
    "print(lines)"
   ]
  },
  {
   "cell_type": "code",
   "execution_count": null,
   "id": "2f767110-5baf-4336-82b7-233ed47ef104",
   "metadata": {},
   "outputs": [],
   "source": [
    "The with statement is used with open() to ensure that the file is closed properly once the operations on the file are complete. This is especially important when dealing with large files, as it ensures that the file is not left open and can be accessed by other processes. The advantage of using with statement and open() together is that it eliminates the need to manually close the file, and ensures that all operations on the file are completed before it is closed.\n"
   ]
  },
  {
   "cell_type": "code",
   "execution_count": null,
   "id": "fb9ba7fe-935a-4622-9b23-2fa915f18e18",
   "metadata": {},
   "outputs": [],
   "source": [
    "The write() function is used to write a string to a file. It takes a single parameter which is the string to be written.\n",
    "\n",
    "\n",
    "The writelines() function is used to write a sequence of strings to a file. It takes a single parameter which is the sequence of strings to be written.\n",
    "\n",
    "\n",
    "Example:\n",
    "\n",
    "\n",
    "f = open(\"myfile.txt\", \"w\")\n",
    "\n",
    "f.write(\"Hello World!\")\n",
    "\n",
    "f.writelines(\"This is line 1\\n\", \"This is line 2\\n\")\n",
    "\n",
    "f.close()"
   ]
  }
 ],
 "metadata": {
  "kernelspec": {
   "display_name": "Python 3 (ipykernel)",
   "language": "python",
   "name": "python3"
  },
  "language_info": {
   "codemirror_mode": {
    "name": "ipython",
    "version": 3
   },
   "file_extension": ".py",
   "mimetype": "text/x-python",
   "name": "python",
   "nbconvert_exporter": "python",
   "pygments_lexer": "ipython3",
   "version": "3.10.8"
  }
 },
 "nbformat": 4,
 "nbformat_minor": 5
}
